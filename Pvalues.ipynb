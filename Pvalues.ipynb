{
 "cells": [
  {
   "cell_type": "code",
   "execution_count": 182,
   "metadata": {
    "collapsed": false
   },
   "outputs": [],
   "source": [
    "import numpy as np\n",
    "import random\n",
    "import scipy as sp\n",
    "import scipy.stats as st\n",
    "import matplotlib.pyplot as plt\n",
    "import pandas as pd\n",
    "from numpy.random import random_integers, seed"
   ]
  },
  {
   "cell_type": "code",
   "execution_count": 183,
   "metadata": {
    "collapsed": false
   },
   "outputs": [],
   "source": [
    "n = 100  # Numero de veces que se lanza la moneda\n",
    "h=np.random.randint(0, n, (1, 100))\n",
    "q = .5  # Hipótesis nula"
   ]
  },
  {
   "cell_type": "code",
   "execution_count": 184,
   "metadata": {
    "collapsed": false
   },
   "outputs": [
    {
     "data": {
      "text/plain": [
       "array([[41, 62, 26, 62, 45, 51, 31, 67, 50, 38, 91, 38, 99, 33, 78, 68, 63,\n",
       "        72, 98, 54, 89, 56, 68,  9,  2, 24, 54, 44, 14, 27, 17, 54, 30, 22,\n",
       "        30, 97,  6, 96, 19, 99, 16, 37, 19, 24, 93, 11, 62, 11, 73, 75, 24,\n",
       "        68, 94, 40, 48,  6,  0, 84,  7, 74, 66, 50, 68, 31, 84, 90, 28, 96,\n",
       "         7, 74, 69, 42, 84, 24,  0, 96, 41,  4, 78, 23, 52, 48, 11, 17, 95,\n",
       "        43, 67, 54, 43, 71, 30, 34, 69, 91, 16, 29, 24, 14, 65, 90]])"
      ]
     },
     "execution_count": 184,
     "metadata": {},
     "output_type": "execute_result"
    }
   ],
   "source": [
    "h"
   ]
  },
  {
   "cell_type": "code",
   "execution_count": 185,
   "metadata": {
    "collapsed": false
   },
   "outputs": [
    {
     "name": "stdout",
     "output_type": "stream",
     "text": [
      "[[ -1.8   2.4  -4.8   2.4  -1.    0.2  -3.8   3.4   0.   -2.4   8.2  -2.4\n",
      "    9.8  -3.4   5.6   3.6   2.6   4.4   9.6   0.8   7.8   1.2   3.6  -8.2\n",
      "   -9.6  -5.2   0.8  -1.2  -7.2  -4.6  -6.6   0.8  -4.   -5.6  -4.    9.4\n",
      "   -8.8   9.2  -6.2   9.8  -6.8  -2.6  -6.2  -5.2   8.6  -7.8   2.4  -7.8\n",
      "    4.6   5.   -5.2   3.6   8.8  -2.   -0.4  -8.8 -10.    6.8  -8.6   4.8\n",
      "    3.2   0.    3.6  -3.8   6.8   8.   -4.4   9.2  -8.6   4.8   3.8  -1.6\n",
      "    6.8  -5.2 -10.    9.2  -1.8  -9.2   5.6  -5.4   0.4  -0.4  -7.8  -6.6\n",
      "    9.   -1.4   3.4   0.8  -1.4   4.2  -4.   -3.2   3.8   8.2  -6.8  -4.2\n",
      "   -5.2  -7.2   3.    8. ]]\n"
     ]
    }
   ],
   "source": [
    "xbar = (h)*0.01\n",
    "z = (xbar - q) * np.sqrt(n / (q*(1-q)))\n",
    "print z"
   ]
  },
  {
   "cell_type": "code",
   "execution_count": 202,
   "metadata": {
    "collapsed": false
   },
   "outputs": [
    {
     "name": "stdout",
     "output_type": "stream",
     "text": [
      "[[  1.92813936e+00   1.63950718e-02   1.99999841e+00   1.63950718e-02\n",
      "    1.68268949e+00   8.41480581e-01   1.99985530e+00   6.73858531e-04\n",
      "    1.00000000e+00   1.98360493e+00   2.22044605e-16   1.98360493e+00\n",
      "    0.00000000e+00   1.99932614e+00   2.14351805e-08   3.18217180e-04\n",
      "    9.32237605e-03   1.08250878e-05   0.00000000e+00   4.23710797e-01\n",
      "    6.21724894e-15   2.30139340e-01   3.18217180e-04   2.00000000e+00\n",
      "    2.00000000e+00   1.99999980e+00   4.23710797e-01   1.76986066e+00\n",
      "    2.00000000e+00   1.99999578e+00   2.00000000e+00   4.23710797e-01\n",
      "    1.99993666e+00   1.99999998e+00   1.99993666e+00   0.00000000e+00\n",
      "    2.00000000e+00   0.00000000e+00   2.00000000e+00   0.00000000e+00\n",
      "    2.00000000e+00   1.99067762e+00   2.00000000e+00   1.99999980e+00\n",
      "    0.00000000e+00   2.00000000e+00   1.63950718e-02   2.00000000e+00\n",
      "    4.22490940e-06   5.73303144e-07   1.99999980e+00   3.18217180e-04\n",
      "    0.00000000e+00   1.95449974e+00   1.31084348e+00   2.00000000e+00\n",
      "    2.00000000e+00   1.04618536e-11   2.00000000e+00   1.58665630e-06\n",
      "    1.37427588e-03   1.00000000e+00   3.18217180e-04   1.99985530e+00\n",
      "    1.04618536e-11   1.33226763e-15   1.99998917e+00   0.00000000e+00\n",
      "    2.00000000e+00   1.58665630e-06   1.44696088e-04   1.89040142e+00\n",
      "    1.04618536e-11   1.99999980e+00   2.00000000e+00   0.00000000e+00\n",
      "    1.92813936e+00   2.00000000e+00   2.14351805e-08   1.99999993e+00\n",
      "    6.89156517e-01   1.31084348e+00   2.00000000e+00   2.00000000e+00\n",
      "    0.00000000e+00   1.83848668e+00   6.73858531e-04   4.23710797e-01\n",
      "    1.83848668e+00   2.66914980e-05   1.99993666e+00   1.99862572e+00\n",
      "    1.44696088e-04   2.22044605e-16   2.00000000e+00   1.99997331e+00\n",
      "    1.99999980e+00   2.00000000e+00   2.69979606e-03   1.33226763e-15]]\n"
     ]
    }
   ],
   "source": [
    "pvalue = 2 * (1 - st.norm.cdf(z))\n",
    "print pvalue"
   ]
  },
  {
   "cell_type": "code",
   "execution_count": 187,
   "metadata": {
    "collapsed": false
   },
   "outputs": [],
   "source": [
    " posterior = lambda n, h, q: (n+1) * st.binom(n, q).pmf(h)"
   ]
  },
  {
   "cell_type": "code",
   "execution_count": 232,
   "metadata": {
    "collapsed": false
   },
   "outputs": [
    {
     "data": {
      "text/plain": [
       "(0, 9.1707928458102437)"
      ]
     },
     "execution_count": 232,
     "metadata": {},
     "output_type": "execute_result"
    },
    {
     "data": {
      "image/png": "[encoded data removed]",
      "text/plain": [
       "<matplotlib.figure.Figure at 0x7f781e7199d0>"
      ]
     },
     "metadata": {},
     "output_type": "display_data"
    }
   ],
   "source": [
    "import numpy as np\n",
    "import scipy.stats as st\n",
    "import matplotlib.pyplot as plt\n",
    "\n",
    "posterior = lambda n, h, q: (n+1) * st.binom(n, q).pmf(h)\n",
    "\n",
    "n = 100\n",
    "h = 41\n",
    "q = np.linspace(0., 1., 1000)\n",
    "d = posterior(n, h, q)\n",
    "\n",
    "plt.plot(q, d, '-k')\n",
    "plt.xlabel( 'parameter')\n",
    "plt.ylabel('distribution')\n",
    "plt.ylim(0, d.max()+1)"
   ]
  },
  {
   "cell_type": "code",
   "execution_count": null,
   "metadata": {
    "collapsed": true
   },
   "outputs": [],
   "source": [
    "posterior = lambda n, h, q: (n+1) * st.binom(n, q).pmf(h)\n",
    "\n",
    "n = 100\n",
    "h = 41\n",
    "q = np.linspace(0., 1., 1000)\n",
    "d = posterior(n, h, q)\n",
    "\n",
    "plt.plot(q, d, '-k')\n",
    "plt.xlabel( 'parameter')\n",
    "plt.ylabel('distribution')\n",
    "plt.ylim(0, d.max()+1)"
   ]
  }
 ],
 "metadata": {
  "kernelspec": {
   "display_name": "Python 2 (SageMath)",
   "language": "python",
   "name": "python2"
  },
  "language_info": {
   "codemirror_mode": {
    "name": "ipython",
    "version": 2
   },
   "file_extension": ".py",
   "mimetype": "text/x-python",
   "name": "python",
   "nbconvert_exporter": "python",
   "pygments_lexer": "ipython2",
   "version": "2.7.10"
  }
 },
 "nbformat": 4,
 "nbformat_minor": 0
}
